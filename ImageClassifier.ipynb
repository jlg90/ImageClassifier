{
  "nbformat": 4,
  "nbformat_minor": 0,
  "metadata": {
    "colab": {
      "provenance": []
    },
    "kernelspec": {
      "name": "python3",
      "display_name": "Python 3"
    },
    "language_info": {
      "name": "python"
    },
    "accelerator": "GPU"
  },
  "cells": [
    {
      "cell_type": "markdown",
      "source": [
        "##Load Pre-Trained Model -ResNet50"
      ],
      "metadata": {
        "id": "Le7zUKuCJZpK"
      }
    },
    {
      "cell_type": "code",
      "execution_count": 1,
      "metadata": {
        "id": "JhrWi1FbJUob"
      },
      "outputs": [],
      "source": [
        "from tensorflow.keras.applications.resnet50 import ResNet50,preprocess_input,decode_predictions\n",
        "from tensorflow.keras.applications import vgg16\n",
        "from tensorflow.keras.preprocessing import image\n",
        "import glob\n",
        "import numpy as np\n",
        "import pandas as pd\n",
        "import cv2\n",
        "from google.colab.patches import cv2_imshow"
      ]
    },
    {
      "cell_type": "markdown",
      "source": [
        "Test ResNet50 Model on sample Images"
      ],
      "metadata": {
        "id": "r3RB5dTbKaB1"
      }
    },
    {
      "cell_type": "code",
      "source": [
        "#Load ResNet50 model\n",
        "resnet_model=ResNet50(weights='imagenet')"
      ],
      "metadata": {
        "colab": {
          "base_uri": "https://localhost:8080/"
        },
        "id": "AfOQb7lgTMhW",
        "outputId": "38396e15-2231-4d25-ac6a-06541ebe2d3e"
      },
      "execution_count": 2,
      "outputs": [
        {
          "output_type": "stream",
          "name": "stdout",
          "text": [
            "Downloading data from https://storage.googleapis.com/tensorflow/keras-applications/resnet/resnet50_weights_tf_dim_ordering_tf_kernels.h5\n",
            "102967424/102967424 [==============================] - 1s 0us/step\n"
          ]
        }
      ]
    },
    {
      "cell_type": "code",
      "source": [
        "#Load path of data\n",
        "path = glob.glob('imagenesTest/*.jpg')\n",
        "path"
      ],
      "metadata": {
        "colab": {
          "base_uri": "https://localhost:8080/"
        },
        "id": "mrv-V1F_SZxN",
        "outputId": "b562a6fb-829c-4434-9cf2-b41f65ceccd8"
      },
      "execution_count": 17,
      "outputs": [
        {
          "output_type": "execute_result",
          "data": {
            "text/plain": [
              "['imagenes/perro.jpg', 'imagenes/gato.jpg']"
            ]
          },
          "metadata": {},
          "execution_count": 17
        }
      ]
    },
    {
      "cell_type": "code",
      "source": [
        "for file in path:\n",
        "  #from tensorflow.keras.preprocessing import image\n",
        "  img_file=cv2.imread(file)\n",
        "  img_file=cv2.resize(img_file,(224,224))\n",
        "  cv2_imshow(img_file)\n",
        "  x_file=image.img_to_array(img_file)\n",
        "  #print(type(x_file))\n",
        "  y_file=np.expand_dims(x_file,axis=0)\n",
        "  #print(type(y_file))\n",
        "  z_file=preprocess_input(y_file)\n",
        "  #print(type(z_file))\n",
        "  preds_file=resnet_model.predict(z_file)\n",
        "  #print(type(preds_file))\n",
        "  #print(preds_file)\n",
        "  Prediction_file=decode_predictions(preds_file, top=3)[0]\n",
        "  #print(type(Prediction_file))\n",
        "  print('Predicted:', Prediction_file)\n"
      ],
      "metadata": {
        "id": "hy5IwYTVSwiZ"
      },
      "execution_count": null,
      "outputs": []
    }
  ]
}